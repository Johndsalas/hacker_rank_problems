{
 "cells": [
  {
   "cell_type": "code",
   "execution_count": 30,
   "id": "anticipated-practitioner",
   "metadata": {},
   "outputs": [],
   "source": [
    "from collections import defaultdict\n",
    "\n",
    "# input data\n",
    "intake = '5 2'\n",
    "words = ['a', 'a', 'b', 'a', 'b', 'a', 'b']\n",
    "\n",
    "size_list = intake.split(' ')\n",
    "\n",
    "for size in size_list:\n",
    "    \n",
    "    for r in range(size):\n",
    "        \n",
    "        words\n",
    "    \n",
    "    \n",
    "\n",
    "\n"
   ]
  },
  {
   "cell_type": "code",
   "execution_count": null,
   "id": "official-department",
   "metadata": {},
   "outputs": [],
   "source": []
  }
 ],
 "metadata": {
  "kernelspec": {
   "display_name": "Python 3",
   "language": "python",
   "name": "python3"
  },
  "language_info": {
   "codemirror_mode": {
    "name": "ipython",
    "version": 3
   },
   "file_extension": ".py",
   "mimetype": "text/x-python",
   "name": "python",
   "nbconvert_exporter": "python",
   "pygments_lexer": "ipython3",
   "version": "3.7.4"
  }
 },
 "nbformat": 4,
 "nbformat_minor": 5
}

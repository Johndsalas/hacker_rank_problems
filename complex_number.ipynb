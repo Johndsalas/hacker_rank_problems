{
 "cells": [
  {
   "cell_type": "markdown",
   "id": "helpful-dryer",
   "metadata": {},
   "source": [
    "# Complex Number"
   ]
  },
  {
   "cell_type": "markdown",
   "id": "exciting-limitation",
   "metadata": {},
   "source": [
    "## Me doing it the hard way..."
   ]
  },
  {
   "cell_type": "code",
   "execution_count": 34,
   "id": "strange-pacific",
   "metadata": {},
   "outputs": [
    {
     "name": "stdout",
     "output_type": "stream",
     "text": [
      "2.23606797749979\n",
      "1.1071487177940904\n"
     ]
    }
   ],
   "source": [
    "from cmath import phase\n",
    "import regex as re\n",
    "\n",
    "intake = '1+2j'\n",
    "li = re.findall('[-+]?\\d+', intake)\n",
    "\n",
    "x = int(li[0])\n",
    "y = int(li[1][1:])\n",
    "\n",
    "r = ((x**2) + (y**2))**.5\n",
    "p = phase(complex(x,y))\n",
    "\n",
    "print(r)\n",
    "print(p)"
   ]
  },
  {
   "cell_type": "markdown",
   "id": "scenic-addition",
   "metadata": {},
   "source": [
    "## Hackerrank Solution"
   ]
  },
  {
   "cell_type": "code",
   "execution_count": null,
   "id": "supported-gnome",
   "metadata": {},
   "outputs": [],
   "source": [
    "from cmath import phase\n",
    "\n",
    "z = input()\n",
    "\n",
    "p = phase(complex(z))\n",
    "r = abs(complex(z))\n",
    "\n",
    "print(r)\n",
    "print(p)"
   ]
  }
 ],
 "metadata": {
  "kernelspec": {
   "display_name": "Python 3",
   "language": "python",
   "name": "python3"
  },
  "language_info": {
   "codemirror_mode": {
    "name": "ipython",
    "version": 3
   },
   "file_extension": ".py",
   "mimetype": "text/x-python",
   "name": "python",
   "nbconvert_exporter": "python",
   "pygments_lexer": "ipython3",
   "version": "3.7.4"
  }
 },
 "nbformat": 4,
 "nbformat_minor": 5
}

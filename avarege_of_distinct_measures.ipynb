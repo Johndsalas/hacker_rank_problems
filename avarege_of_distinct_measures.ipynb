{
 "cells": [
  {
   "cell_type": "markdown",
   "id": "million-denmark",
   "metadata": {},
   "source": [
    "# Get the average of the distinct numbers in a string"
   ]
  },
  {
   "cell_type": "markdown",
   "id": "relative-minute",
   "metadata": {},
   "source": [
    "### How I thought the input was going to come in..."
   ]
  },
  {
   "cell_type": "code",
   "execution_count": 27,
   "id": "analyzed-rapid",
   "metadata": {},
   "outputs": [
    {
     "name": "stdout",
     "output_type": "stream",
     "text": [
      "169.375\n"
     ]
    }
   ],
   "source": [
    "length = 10 # input()\n",
    "num_string = '161 182 161 154 176 170 167 171 170 174' # input()\n",
    "\n",
    "# get distinct numers in a list\n",
    "s = list({int(num) for num in num_string.split(' ')})\n",
    "\n",
    "# print sum of list divided by length of list\n",
    "print(sum(s)/len(s))"
   ]
  },
  {
   "cell_type": "markdown",
   "id": "capital-aerospace",
   "metadata": {},
   "source": [
    "### What went into Hackerrank"
   ]
  },
  {
   "cell_type": "code",
   "execution_count": 29,
   "id": "reflected-arlington",
   "metadata": {},
   "outputs": [],
   "source": [
    "def average(array):\n",
    "    # your code goes here\n",
    "    # get list of unique numbers\n",
    "    arr_unique = list(set(array))\n",
    "    arr_len = len(arr_unique)\n",
    "\n",
    "    # print sum of list divided by length of list\n",
    "    return sum(arr_unique)/arr_len"
   ]
  },
  {
   "cell_type": "code",
   "execution_count": 30,
   "id": "round-salon",
   "metadata": {},
   "outputs": [
    {
     "data": {
      "text/plain": [
       "169.375"
      ]
     },
     "execution_count": 30,
     "metadata": {},
     "output_type": "execute_result"
    }
   ],
   "source": [
    "average([161, 182, 161, 154, 176, 170, 167, 171, 170, 174])"
   ]
  }
 ],
 "metadata": {
  "kernelspec": {
   "display_name": "Python 3",
   "language": "python",
   "name": "python3"
  },
  "language_info": {
   "codemirror_mode": {
    "name": "ipython",
    "version": 3
   },
   "file_extension": ".py",
   "mimetype": "text/x-python",
   "name": "python",
   "nbconvert_exporter": "python",
   "pygments_lexer": "ipython3",
   "version": "3.7.4"
  }
 },
 "nbformat": 4,
 "nbformat_minor": 5
}

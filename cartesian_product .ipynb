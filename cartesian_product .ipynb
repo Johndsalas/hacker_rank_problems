{
 "cells": [
  {
   "cell_type": "markdown",
   "id": "english-fluid",
   "metadata": {},
   "source": [
    "# Get pairs of tuples showing the cartesian product of two groups"
   ]
  },
  {
   "cell_type": "markdown",
   "id": "several-cleanup",
   "metadata": {},
   "source": [
    "## Test Version"
   ]
  },
  {
   "cell_type": "code",
   "execution_count": 26,
   "id": "analyzed-flesh",
   "metadata": {},
   "outputs": [
    {
     "name": "stdout",
     "output_type": "stream",
     "text": [
      "(1, 3) (1, 4) (2, 3) (2, 4)\n"
     ]
    }
   ],
   "source": [
    "from itertools import product\n",
    "\n",
    "# get values from standard input and convert to tuple \n",
    "g1 = eval('1 2'.replace(' ', ','))\n",
    "g2 = eval('3 4'.replace(' ', ','))\n",
    "\n",
    "\n",
    "# for each value in cart prod add the tuplt as a string to out and add a space\n",
    "# print out minus final added space\n",
    "out = ''\n",
    "\n",
    "for item in product(g1,g2):\n",
    "    \n",
    "    out += str(item)\n",
    "    \n",
    "    out += ' '\n",
    "    \n",
    "print(out[:-1])"
   ]
  },
  {
   "cell_type": "markdown",
   "id": "dutch-prayer",
   "metadata": {},
   "source": [
    "## Hackerrank submission"
   ]
  },
  {
   "cell_type": "code",
   "execution_count": 27,
   "id": "composite-vegetable",
   "metadata": {},
   "outputs": [
    {
     "name": "stdout",
     "output_type": "stream",
     "text": [
      "1 2\n",
      "3 4\n",
      "(1, 3) (1, 4) (2, 3) (2, 4)\n"
     ]
    }
   ],
   "source": [
    "from itertools import product\n",
    "\n",
    "# get values from standard input and convert to tuple \n",
    "g1 = eval(input().replace(' ', ','))\n",
    "g2 = eval(input().replace(' ', ','))\n",
    "\n",
    "\n",
    "# for each value in cart prod add the tuplt as a string to out and add a space\n",
    "# print out minus final added space\n",
    "out = ''\n",
    "\n",
    "for item in product(g1,g2):\n",
    "    \n",
    "    out += str(item)\n",
    "    \n",
    "    out += ' '\n",
    "    \n",
    "print(out[:-1])"
   ]
  }
 ],
 "metadata": {
  "kernelspec": {
   "display_name": "Python 3",
   "language": "python",
   "name": "python3"
  },
  "language_info": {
   "codemirror_mode": {
    "name": "ipython",
    "version": 3
   },
   "file_extension": ".py",
   "mimetype": "text/x-python",
   "name": "python",
   "nbconvert_exporter": "python",
   "pygments_lexer": "ipython3",
   "version": "3.7.4"
  }
 },
 "nbformat": 4,
 "nbformat_minor": 5
}

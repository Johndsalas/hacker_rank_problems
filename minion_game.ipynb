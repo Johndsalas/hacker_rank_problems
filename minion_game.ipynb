{
 "cells": [
  {
   "cell_type": "markdown",
   "id": "conscious-sunrise",
   "metadata": {},
   "source": [
    "# Kevin and Stuart want to play the 'The Minion Game'.\n",
    "\n",
    "Game Rules\n",
    "\n",
    "Both players are given the same string, .\n",
    "Both players have to make substrings using the letters of the string .\n",
    "Stuart has to make words starting with consonants.\n",
    "Kevin has to make words starting with vowels.\n",
    "The game ends when both players have made all possible substrings.\n",
    "\n",
    "Scoring\n",
    "A player gets +1 point for each occurrence of the substring in the string .\n",
    "\n",
    "For Example:\n",
    "String  = BANANA\n",
    "Kevin's vowel beginning word = ANA\n",
    "Here, ANA occurs twice in BANANA. Hence, Kevin will get 2 Points.\n",
    "\n",
    "For better understanding, see the image below:"
   ]
  },
  {
   "cell_type": "markdown",
   "id": "going-purple",
   "metadata": {},
   "source": [
    "# First Attempt"
   ]
  },
  {
   "cell_type": "code",
   "execution_count": 32,
   "id": "random-silly",
   "metadata": {},
   "outputs": [
    {
     "name": "stdout",
     "output_type": "stream",
     "text": [
      "Stuart 12\n"
     ]
    }
   ],
   "source": [
    "word = \"BANANA\"\n",
    "\n",
    "# store strings for each and get number of strings for score\n",
    "stu = []\n",
    "stu_len = len(stu)\n",
    "kev = []\n",
    "kev_len = len(kev)\n",
    "\n",
    "# get itteration of fragments leaving off the first letter each time\n",
    "for r in range(0, len(word)+2):\n",
    "    \n",
    "    frag = word[r:] \n",
    "\n",
    "    for r in range(1, len(frag)+1, 1):\n",
    "\n",
    "        small_frag = frag[:r]\n",
    "\n",
    "        starts_with = small_frag[0]\n",
    "        \n",
    "        if starts_with not in \"AEIOU\":\n",
    "\n",
    "            stu.append(small_frag)\n",
    "\n",
    "        elif starts_with in \"AEIOU\":\n",
    "\n",
    "            kev.append(small_frag)\n",
    "        else:\n",
    "            print(\"THIS IS BAD SIR\")\n",
    "        \n",
    "        \n",
    "stu_len = len(stu)\n",
    "kev_len = len(kev)\n",
    "\n",
    "        \n",
    "if kev_len > stu_len:\n",
    "\n",
    "    print(f\"Kevin {kev_len}\")\n",
    "\n",
    "elif stu_len > kev_len:\n",
    "\n",
    "    print(f\"Stuart {stu_len}\")\n",
    "\n",
    "else:\n",
    "\n",
    "    print(\"Draw\")"
   ]
  },
  {
   "cell_type": "markdown",
   "id": "loaded-toddler",
   "metadata": {},
   "source": [
    "# Refactor"
   ]
  },
  {
   "cell_type": "code",
   "execution_count": 42,
   "id": "quick-indicator",
   "metadata": {},
   "outputs": [],
   "source": [
    "def minion_game(word):\n",
    "\n",
    "    stu = []\n",
    "    kev = []\n",
    "\n",
    "    # get itteration of fragments leaving off the first letter each time\n",
    "    for r in range(0, len(word)+2):\n",
    "\n",
    "        frag = word[r:] \n",
    "\n",
    "        for r in range(1, len(frag)+1, 1):\n",
    "\n",
    "            small_frag = frag[:r]\n",
    "\n",
    "            starts_with = small_frag[0]\n",
    "\n",
    "            if starts_with not in \"AEIOU\":\n",
    "\n",
    "                stu.append(small_frag)\n",
    "\n",
    "            elif starts_with in \"AEIOU\":\n",
    "\n",
    "                kev.append(small_frag)\n",
    "            else:\n",
    "                print(\"THIS IS BAD SIR\")\n",
    "\n",
    "    # get length of list of scoring words and print out winning text\n",
    "    stu_len = len(stu)\n",
    "    kev_len = len(kev)\n",
    "\n",
    "    if kev_len > stu_len:\n",
    "\n",
    "        print(f\"Kevin {kev_len}\")\n",
    "\n",
    "    elif stu_len > kev_len:\n",
    "\n",
    "        print(f\"Stuart {stu_len}\")\n",
    "\n",
    "    else:\n",
    "\n",
    "        print(\"Draw\")"
   ]
  },
  {
   "cell_type": "code",
   "execution_count": 45,
   "id": "supported-newark",
   "metadata": {},
   "outputs": [
    {
     "name": "stdout",
     "output_type": "stream",
     "text": [
      "Stuart 24\n"
     ]
    }
   ],
   "source": [
    "minion_game(\"YABADABOO\")"
   ]
  },
  {
   "cell_type": "markdown",
   "id": "established-august",
   "metadata": {},
   "source": [
    "# Second Refactor"
   ]
  },
  {
   "cell_type": "code",
   "execution_count": 14,
   "id": "laughing-general",
   "metadata": {},
   "outputs": [],
   "source": [
    "string = \"BANANA\"\n",
    "\n",
    "def minion_game(string):\n",
    "    '''Plays the minion game'''\n",
    "\n",
    "    # player scores\n",
    "    kev = 0\n",
    "    stu = 0\n",
    "\n",
    "    # get lest of word fragments removing one letter from the front each time \n",
    "    frag_list = [string[r:] for r in range(0, len(string))]\n",
    "\n",
    "    # add total number of string fragments that could be created from each fragment to \n",
    "    # the proper player's score\n",
    "    \n",
    "    for frag[] in frag_list:\n",
    "\n",
    "        if frag[0] in \"AEIOU\":\n",
    "\n",
    "            kev += len(frag)\n",
    "\n",
    "        else:\n",
    "\n",
    "            stu += len(frag)\n",
    "\n",
    "    # print out results of the game\n",
    "    if kev > stu:\n",
    "\n",
    "        print(f\"Kevin {kev}\")\n",
    "\n",
    "    elif stu > kev:\n",
    "\n",
    "        print(f\"Stuart {stu}\")\n",
    "\n",
    "    else:\n",
    "\n",
    "        print(\"Draw\")"
   ]
  },
  {
   "cell_type": "markdown",
   "id": "eight-facility",
   "metadata": {},
   "source": [
    "# Third Refactor"
   ]
  },
  {
   "cell_type": "code",
   "execution_count": 32,
   "id": "recovered-republican",
   "metadata": {},
   "outputs": [],
   "source": [
    "def minion_game(string):\n",
    "    '''Plays the minion game between '''\n",
    "\n",
    "    # player scores\n",
    "    kev = 0\n",
    "    stu = 0\n",
    "    \n",
    "    for r in range(0, len(string)):\n",
    "        \n",
    "        frag = string[r:]\n",
    "\n",
    "        if frag[0] in \"AEIOU\":\n",
    "\n",
    "            kev += len(frag)\n",
    "\n",
    "        else:\n",
    "\n",
    "            stu += len(frag)\n",
    "\n",
    "    # print out results of the game\n",
    "    if kev > stu:\n",
    "\n",
    "        print(f\"Kevin {kev}\")\n",
    "\n",
    "    elif stu > kev:\n",
    "\n",
    "        print(f\"Stuart {stu}\")\n",
    "\n",
    "    else:\n",
    "\n",
    "        print(\"Draw\")"
   ]
  },
  {
   "cell_type": "code",
   "execution_count": 33,
   "id": "circular-technical",
   "metadata": {},
   "outputs": [
    {
     "name": "stdout",
     "output_type": "stream",
     "text": [
      "BANANA\n",
      "ANANA\n",
      "NANA\n",
      "ANA\n",
      "NA\n",
      "A\n",
      "Stuart 12\n"
     ]
    }
   ],
   "source": [
    "minion_game(\"BANANA\")"
   ]
  },
  {
   "cell_type": "markdown",
   "id": "graphic-victory",
   "metadata": {},
   "source": [
    "# Fourth Refactor"
   ]
  },
  {
   "cell_type": "code",
   "execution_count": 39,
   "id": "arranged-bleeding",
   "metadata": {},
   "outputs": [
    {
     "name": "stdout",
     "output_type": "stream",
     "text": [
      "Stuart 12\n"
     ]
    }
   ],
   "source": [
    "def minion_game(string):\n",
    "    ''' Takes in a string\n",
    "        Plays the minion game between kevin and Stuart\n",
    "        Prints result of the game'''\n",
    "\n",
    "    # player scores\n",
    "    kev = 0\n",
    "    stu = 0\n",
    "    \n",
    "    # continue untill string is gone\n",
    "    while len(string) > 0:\n",
    "\n",
    "        # add score to the proper player based \n",
    "        # score is based on the length of the string\n",
    "        if string[0] in \"AEIOU\":\n",
    "\n",
    "            kev += len(string)\n",
    "\n",
    "        else:\n",
    "\n",
    "            stu += len(string)\n",
    "\n",
    "        # remove first letter of string\n",
    "        string = string[1:]\n",
    "\n",
    "    # print out results of the game\n",
    "    if kev > stu:\n",
    "\n",
    "        print(f\"Kevin {kev}\")\n",
    "\n",
    "    elif stu > kev:\n",
    "\n",
    "        print(f\"Stuart {stu}\")\n",
    "\n",
    "    else:\n",
    "\n",
    "        print(\"Draw\")"
   ]
  },
  {
   "cell_type": "markdown",
   "id": "olive-hunter",
   "metadata": {},
   "source": [
    "# Final"
   ]
  },
  {
   "cell_type": "code",
   "execution_count": 40,
   "id": "shaped-commerce",
   "metadata": {},
   "outputs": [],
   "source": [
    "def minion_game(string):\n",
    "    ''' Takes in a string\n",
    "        Plays the minion game between kevin and Stuart\n",
    "        Prints result of the game'''\n",
    "\n",
    "    # player scores\n",
    "    kev = 0\n",
    "    stu = 0\n",
    "    \n",
    "    # get string length\n",
    "    str_len = len(string)\n",
    "\n",
    "    # for numbers in 0 to length of string\n",
    "    # add string length plus index to score\n",
    "    # scoring player by whether index value is a vowel \n",
    "    for index in range(0, str_len):\n",
    "\n",
    "        if string[index] in \"AEIOU\":\n",
    "\n",
    "            kev += str_len - index\n",
    "\n",
    "        else:\n",
    "\n",
    "            stu += str_len - index\n",
    "\n",
    "    # print out results of the game\n",
    "    if kev > stu:\n",
    "\n",
    "        print(f\"Kevin {kev}\")\n",
    "\n",
    "    elif stu > kev:\n",
    "\n",
    "        print(f\"Stuart {stu}\")\n",
    "\n",
    "    else:\n",
    "\n",
    "        print(\"Draw\")"
   ]
  },
  {
   "cell_type": "code",
   "execution_count": 41,
   "id": "close-thursday",
   "metadata": {},
   "outputs": [
    {
     "name": "stdout",
     "output_type": "stream",
     "text": [
      "Stuart 12\n"
     ]
    }
   ],
   "source": [
    "minion_game(\"BANANA\")"
   ]
  }
 ],
 "metadata": {
  "kernelspec": {
   "display_name": "Python 3",
   "language": "python",
   "name": "python3"
  },
  "language_info": {
   "codemirror_mode": {
    "name": "ipython",
    "version": 3
   },
   "file_extension": ".py",
   "mimetype": "text/x-python",
   "name": "python",
   "nbconvert_exporter": "python",
   "pygments_lexer": "ipython3",
   "version": "3.7.4"
  }
 },
 "nbformat": 4,
 "nbformat_minor": 5
}

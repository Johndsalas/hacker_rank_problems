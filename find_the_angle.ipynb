{
 "cells": [
  {
   "cell_type": "markdown",
   "id": "laughing-relaxation",
   "metadata": {},
   "source": [
    "getting angle from given sides"
   ]
  },
  {
   "cell_type": "code",
   "execution_count": 19,
   "id": "lucky-destruction",
   "metadata": {},
   "outputs": [
    {
     "name": "stdout",
     "output_type": "stream",
     "text": [
      "45°\n"
     ]
    }
   ],
   "source": [
    "from math import sqrt, atan, degrees\n",
    "\n",
    "sample_input1 = 10\n",
    "sample_input2 = 10\n",
    "# output should be 45 degrees\n",
    "\n",
    "a_b = sample_input1\n",
    "b_c = sample_input2\n",
    "\n",
    "angel_c = atan(a_b/b_c)\n",
    "\n",
    "angel_c = round(degrees(angle_c))\n",
    "\n",
    "print(f'{angle_c}'u'\\N{DEGREE SIGN}')"
   ]
  }
 ],
 "metadata": {
  "kernelspec": {
   "display_name": "Python 3",
   "language": "python",
   "name": "python3"
  },
  "language_info": {
   "codemirror_mode": {
    "name": "ipython",
    "version": 3
   },
   "file_extension": ".py",
   "mimetype": "text/x-python",
   "name": "python",
   "nbconvert_exporter": "python",
   "pygments_lexer": "ipython3",
   "version": "3.7.4"
  }
 },
 "nbformat": 4,
 "nbformat_minor": 5
}

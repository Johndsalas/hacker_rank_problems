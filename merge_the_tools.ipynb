{
 "cells": [
  {
   "cell_type": "markdown",
   "id": "arabic-queensland",
   "metadata": {},
   "source": [
    "# Merge The Tools\n",
    "1) Accept a sting and a number (string length will be divisable by number) <br>\n",
    "2) Divide the sting into segments equal to the number <br>\n",
    "3) For each substring remove repeated letters <br>\n",
    "4) Print each substring on a new line <br>"
   ]
  },
  {
   "cell_type": "code",
   "execution_count": 5,
   "id": "bottom-conducting",
   "metadata": {},
   "outputs": [
    {
     "name": "stdout",
     "output_type": "stream",
     "text": [
      "1\n",
      "2\n",
      "3\n"
     ]
    }
   ],
   "source": [
    "string = \"AAABCADDE\"\n",
    "K = 3\n",
    "\n",
    "subs = len(string)//3 \n",
    "\n",
    "for sub in range(1,subs+1):\n",
    "    \n",
    "    "
   ]
  },
  {
   "cell_type": "code",
   "execution_count": null,
   "id": "annual-character",
   "metadata": {},
   "outputs": [],
   "source": []
  }
 ],
 "metadata": {
  "kernelspec": {
   "display_name": "Python 3",
   "language": "python",
   "name": "python3"
  },
  "language_info": {
   "codemirror_mode": {
    "name": "ipython",
    "version": 3
   },
   "file_extension": ".py",
   "mimetype": "text/x-python",
   "name": "python",
   "nbconvert_exporter": "python",
   "pygments_lexer": "ipython3",
   "version": "3.7.4"
  }
 },
 "nbformat": 4,
 "nbformat_minor": 5
}

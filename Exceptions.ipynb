{
 "cells": [
  {
   "cell_type": "markdown",
   "id": "civic-hormone",
   "metadata": {},
   "source": [
    "Task\n",
    "\n",
    "You are given two values a and b.\n",
    "Perform integer division and print a/b.\n",
    "\n",
    "Input Format\n",
    "\n",
    "The first line contains , the number of test cases.\n",
    "The next lines each contain the space separated values of a and b.\n",
    "\n",
    "Constraints\n",
    "\n",
    "Output Format\n",
    "\n",
    "Print the value of a/b.\n",
    "In the case of ZeroDivisionError or ValueError, print the error code."
   ]
  },
  {
   "cell_type": "code",
   "execution_count": null,
   "id": "traditional-dating",
   "metadata": {},
   "outputs": [],
   "source": [
    "iterations = int(input())\n",
    "\n",
    "counter = 0\n",
    "\n",
    "while counter < iterations:\n",
    "    \n",
    "    numbers = input().split(' ')\n",
    "    \n",
    "    a = numbers[0]\n",
    "    b = numbers[1]\n",
    "    \n",
    "    try:\n",
    "        \n",
    "        print(int(a) // int(b))\n",
    "\n",
    "    except ZeroDivisionError as e1:\n",
    "        \n",
    "        print(\"Error Code:\", e1)\n",
    "        \n",
    "    except ValueError as e2:\n",
    "        \n",
    "        print(\"Error Code:\", e2)\n",
    "         \n",
    "    counter += 1\n",
    "        "
   ]
  }
 ],
 "metadata": {
  "kernelspec": {
   "display_name": "Python 3",
   "language": "python",
   "name": "python3"
  },
  "language_info": {
   "codemirror_mode": {
    "name": "ipython",
    "version": 3
   },
   "file_extension": ".py",
   "mimetype": "text/x-python",
   "name": "python",
   "nbconvert_exporter": "python",
   "pygments_lexer": "ipython3",
   "version": "3.7.4"
  }
 },
 "nbformat": 4,
 "nbformat_minor": 5
}

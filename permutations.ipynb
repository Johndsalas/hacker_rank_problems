{
 "cells": [
  {
   "cell_type": "markdown",
   "id": "medium-person",
   "metadata": {},
   "source": [
    "# Get Permutations\n",
    "1) Take in string with capital letters followed by a space and a number <br>\n",
    "2) print permutations of letters with value equal to the input number"
   ]
  },
  {
   "cell_type": "code",
   "execution_count": 21,
   "id": "representative-occurrence",
   "metadata": {},
   "outputs": [
    {
     "name": "stdout",
     "output_type": "stream",
     "text": [
      "AC\n",
      "AH\n",
      "AK\n",
      "CA\n",
      "CH\n",
      "CK\n",
      "HA\n",
      "HC\n",
      "HK\n",
      "KA\n",
      "KC\n",
      "KH\n"
     ]
    }
   ],
   "source": [
    "from itertools import permutations\n",
    "\n",
    "# take in input and split letters and number into a list\n",
    "intake = 'HACK 2' # input()\n",
    "intake_li = intake.split(' ')\n",
    "\n",
    "# unpack letters into a list and sort\n",
    "string = [*intake_li[0]]\n",
    "string.sort()\n",
    "\n",
    "# convert string number to int \n",
    "num = int(intake_li[1])\n",
    "\n",
    "# get permutations and print each one on a new line\n",
    "perms = permutations(string, num)\n",
    "\n",
    "for perm in perms:\n",
    "    print(''.join(list(perm)))"
   ]
  }
 ],
 "metadata": {
  "kernelspec": {
   "display_name": "Python 3",
   "language": "python",
   "name": "python3"
  },
  "language_info": {
   "codemirror_mode": {
    "name": "ipython",
    "version": 3
   },
   "file_extension": ".py",
   "mimetype": "text/x-python",
   "name": "python",
   "nbconvert_exporter": "python",
   "pygments_lexer": "ipython3",
   "version": "3.7.4"
  }
 },
 "nbformat": 4,
 "nbformat_minor": 5
}

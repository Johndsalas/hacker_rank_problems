{
 "cells": [
  {
   "cell_type": "markdown",
   "id": "arabic-queensland",
   "metadata": {},
   "source": [
    "# Merge The Tools\n",
    "1) Accept a sting and a number (string length will be divisable by number) <br>\n",
    "2) Divide the sting into segments equal to the number <br>\n",
    "3) For each substring remove repeated letters <br>\n",
    "4) Print each substring on a new line <br>"
   ]
  },
  {
   "cell_type": "code",
   "execution_count": 40,
   "id": "annual-character",
   "metadata": {},
   "outputs": [],
   "source": [
    "from collections import Counter\n",
    "\n",
    "def merge_the_tools(string, k):\n",
    "    '''Take in a string of letters and number k\n",
    "       Number of letters in sring must be evenly divisable by k\n",
    "       split the string into substrings with k letters in each\n",
    "       prints each substring on a newline with duplicate letters removed'''\n",
    "    \n",
    "    # get length of string\n",
    "    len_str = len(string)\n",
    "\n",
    "    # for each substing \n",
    "    for r in range(0,len_str,k):\n",
    "    \n",
    "        # create a window showing that substring\n",
    "        sub = string[r:r+k]\n",
    "    \n",
    "        new_sub = \"\"\n",
    "    \n",
    "        # get count of letters in substing\n",
    "        wc = Counter(sub)\n",
    "    \n",
    "        # add one letter to new sub for each count of letters\n",
    "        for letter, count in wc.items():\n",
    "            \n",
    "                new_sub += letter\n",
    "    \n",
    "        print(new_sub)"
   ]
  },
  {
   "cell_type": "code",
   "execution_count": 41,
   "id": "unsigned-speaker",
   "metadata": {},
   "outputs": [
    {
     "name": "stdout",
     "output_type": "stream",
     "text": [
      "FGT\n",
      "HYJ\n",
      "DTHB\n",
      "DRGS\n",
      "GSR\n",
      "RSG\n"
     ]
    }
   ],
   "source": [
    "merge_the_tools(\"FFFGTHYJJJDTHDBDRGSRGGSSRRRSGR\", 5)"
   ]
  },
  {
   "cell_type": "code",
   "execution_count": null,
   "id": "three-mirror",
   "metadata": {},
   "outputs": [],
   "source": []
  }
 ],
 "metadata": {
  "kernelspec": {
   "display_name": "Python 3",
   "language": "python",
   "name": "python3"
  },
  "language_info": {
   "codemirror_mode": {
    "name": "ipython",
    "version": 3
   },
   "file_extension": ".py",
   "mimetype": "text/x-python",
   "name": "python",
   "nbconvert_exporter": "python",
   "pygments_lexer": "ipython3",
   "version": "3.7.4"
  }
 },
 "nbformat": 4,
 "nbformat_minor": 5
}

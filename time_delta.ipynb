{
 "cells": [
  {
   "cell_type": "markdown",
   "id": "voluntary-arrest",
   "metadata": {},
   "source": [
    "When users post an update on social media,such as a URL, image, status update etc., other users in their network are able to view this new post on their news feed. Users can also see exactly when the post was published, i.e, how many hours, minutes or seconds ago.\n",
    "\n",
    "Since sometimes posts are published and viewed in different time zones, this can be confusing. You are given two timestamps of one such post that a user can see on his newsfeed in the following format:\n",
    "\n",
    "Day dd Mon yyyy hh:mm:ss +xxxx\n",
    "\n",
    "Here +xxxx represents the time zone. Your task is to print the absolute difference (in seconds) between them.\n",
    "\n",
    "Input Format\n",
    "\n",
    "The first line contains , the number of testcases.\n",
    "Each testcase contains  lines, representing time  and time .\n",
    "\n",
    "Constraints\n",
    "\n",
    "Input contains only valid timestamps\n",
    ".\n",
    "Output Format\n",
    "\n",
    "Print the absolute difference  in seconds.\n",
    "\n",
    "Sample Input 0\n",
    "\n",
    "2\n",
    "Sun 10 May 2015 13:54:36 -0700\n",
    "Sun 10 May 2015 13:54:36 -0000\n",
    "Sat 02 May 2015 19:54:36 +0530\n",
    "Fri 01 May 2015 13:54:36 -0000\n",
    "Sample Output 0\n",
    "\n",
    "25200\n",
    "88200\n",
    "Explanation 0\n",
    "\n",
    "In the first query, when we compare the time in UTC for both the time stamps, we see a difference of 7 hours. which is  seconds or  seconds.\n",
    "\n",
    "Similarly, in the second query, time difference is 5 hours and 30 minutes for time zone adjusting for that we have a difference of 1 day and 30 minutes. Or "
   ]
  },
  {
   "cell_type": "code",
   "execution_count": null,
   "id": "wireless-parking",
   "metadata": {},
   "outputs": [],
   "source": [
    "import os\n",
    "from datetime import datetime as dt\n",
    "\n",
    "# Complete the time_delta function below.\n",
    "def time_delta(t1, t2):\n",
    "    \n",
    "    datetime_format = '%a %d %b %Y %H:%M:%S %z'\n",
    "    datetime_t1 = dt.strptime(t1, datetime_format)\n",
    "    datetime_t2 = dt.strptime(t2, datetime_format)\n",
    "    \n",
    "    return str(int(abs(datetime_t1 - datetime_t2).total_seconds()))\n",
    "    \n",
    "\n",
    "if __name__ == '__main__':\n",
    "    fptr = open(os.environ['OUTPUT_PATH'], 'w')\n",
    "\n",
    "    t = int(input())\n",
    "\n",
    "    for t_itr in range(t):\n",
    "        t1 = input()\n",
    "\n",
    "        t2 = input()\n",
    "\n",
    "        delta = time_delta(t1, t2)"
   ]
  }
 ],
 "metadata": {
  "kernelspec": {
   "display_name": "Python 3",
   "language": "python",
   "name": "python3"
  },
  "language_info": {
   "codemirror_mode": {
    "name": "ipython",
    "version": 3
   },
   "file_extension": ".py",
   "mimetype": "text/x-python",
   "name": "python",
   "nbconvert_exporter": "python",
   "pygments_lexer": "ipython3",
   "version": "3.7.4"
  }
 },
 "nbformat": 4,
 "nbformat_minor": 5
}

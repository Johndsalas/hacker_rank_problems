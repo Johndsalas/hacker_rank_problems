{
 "cells": [
  {
   "cell_type": "code",
   "execution_count": 37,
   "id": "anticipated-practitioner",
   "metadata": {},
   "outputs": [
    {
     "name": "stdout",
     "output_type": "stream",
     "text": [
      "2 3 1\n",
      "2 4\n",
      "1 3 2\n"
     ]
    }
   ],
   "source": [
    "from collections import defaultdict\n",
    "\n",
    "# input data\n",
    "intake = '5 2'\n",
    "words = ['a', 'c', 'a', 'b', 'a', 'b', 'a', 'b', 'c']\n",
    "\n",
    "\n",
    "groups = intake.split(' ')\n",
    "\n",
    "gates = groups[0]\n",
    "keys = groups[1]\n",
    "\n",
    "word_dict = defaultdict(list)\n",
    "\n",
    "# holds beginning index number from previous groups\n",
    "words_appended = 0\n",
    "\n",
    "# for each size\n",
    "for num, size in enumerate(groups):\n",
    "    \n",
    "    size = int(size)\n",
    "    \n",
    "    # append word index to dictionary size times\n",
    "    for position in range(size):\n",
    "        \n",
    "        # get current index by adding current position to total words apended from other groups\n",
    "        index = words_appended + position\n",
    "        \n",
    "        # get group name using index\n",
    "        group_name = words[index]\n",
    "    \n",
    "        # append position to word \n",
    "        word_dict[f'{group_name}'].append(position+1)\n",
    "        \n",
    "    words_appended += size\n",
    "    \n",
    "for d in word_dict:\n",
    "    \n",
    "    print(' '.join(list({str(num) for num in word_dict[d]})))"
   ]
  },
  {
   "cell_type": "code",
   "execution_count": null,
   "id": "brazilian-hacker",
   "metadata": {},
   "outputs": [],
   "source": [
    "from collections import defaultdict\n",
    "\n",
    "# get list of groups\n",
    "group_list = input().split(' ')\n",
    "\n",
    "gate_words = int(group_list[0])\n",
    "key_words = int(group_list[1])\n",
    "\n",
    "gateways = defaultdict(list)\n",
    "\n",
    "# append gate words and positions to gateways\n",
    "for r in range(gate_words):\n",
    "    \n",
    "    # get word and position\n",
    "    gate_name = input()\n",
    "    position = str(r+1)\n",
    "\n",
    "    # append gate name and position number to gateways\n",
    "    gateways[f'{gate_name}'].append(position)\n",
    "\n",
    "# get set of key words\n",
    "key_chain = set(input() for key in range(key_words))\n",
    "\n",
    "# check each word in keys against gateways\n",
    "# print matching positions or -1\n",
    "for key in key_chain:\n",
    "    \n",
    "    if key in gateways.keys():\n",
    "        \n",
    "        print(' '.join(gateways[key]))\n",
    "        \n",
    "    else:\n",
    "        \n",
    "        print(-1)"
   ]
  },
  {
   "cell_type": "markdown",
   "id": "global-manner",
   "metadata": {},
   "source": [
    "# Check second list against the first list\n"
   ]
  }
 ],
 "metadata": {
  "kernelspec": {
   "display_name": "Python 3",
   "language": "python",
   "name": "python3"
  },
  "language_info": {
   "codemirror_mode": {
    "name": "ipython",
    "version": 3
   },
   "file_extension": ".py",
   "mimetype": "text/x-python",
   "name": "python",
   "nbconvert_exporter": "python",
   "pygments_lexer": "ipython3",
   "version": "3.7.4"
  }
 },
 "nbformat": 4,
 "nbformat_minor": 5
}

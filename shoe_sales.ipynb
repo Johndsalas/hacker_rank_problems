{
 "cells": [
  {
   "cell_type": "markdown",
   "id": "charming-question",
   "metadata": {},
   "source": [
    "# Shoe Sales\n",
    "1) Take in number of shoes, list of shoe sizes, number of customers, and n lines containing a customer's desiered shoe size and shoe cost. <br>\n",
    "2) Return value of shoes sold assuming that each customer who's shoe size matched an available size bought it for the listed price."
   ]
  },
  {
   "cell_type": "markdown",
   "id": "historical-spoke",
   "metadata": {},
   "source": [
    "## Using Proxy Input"
   ]
  },
  {
   "cell_type": "code",
   "execution_count": 41,
   "id": "located-nashville",
   "metadata": {},
   "outputs": [
    {
     "name": "stdout",
     "output_type": "stream",
     "text": [
      "200\n"
     ]
    }
   ],
   "source": [
    "from collections import Counter\n",
    "\n",
    "# collect input data\n",
    "num_sizes = int('10')\n",
    "# change sizes to a dictionary with size : number in sock\n",
    "sizes = Counter('2 3 4 5 6 8 7 6 5 18'.split(' '))\n",
    "num_cust = int('6')\n",
    "cust_info = [\"6 55\", \"6 45\", \"6 55\", \"4 40\", \"18 60\", \"10 50\"]\n",
    "\n",
    "# initialize total_sales\n",
    "total_sales = 0\n",
    "\n",
    "# for each customer\n",
    "for cust in range(0, num_cust):\n",
    "    \n",
    "    # get current customer info into a list\n",
    "    cur_cust = cust_info[cust].split(' ')\n",
    "    \n",
    "    # get current size, price, and number of that size in stock\n",
    "    cur_size = cur_cust[0]\n",
    "    \n",
    "    cur_price = int(cur_cust[1])\n",
    "    \n",
    "    num_in_stock = sizes[cur_size]\n",
    "    \n",
    "    # if size in stock add price to total sales and remove one from dictionaries inventory\n",
    "    if num_in_stock >= 1:\n",
    "        \n",
    "        total_sales += cur_price\n",
    "        \n",
    "        sizes[cur_size] = num_in_stock - 1\n",
    "\n",
    "print(total_sales)"
   ]
  },
  {
   "cell_type": "markdown",
   "id": "reserved-banks",
   "metadata": {},
   "source": [
    "## Getting Input from Hackerrank"
   ]
  },
  {
   "cell_type": "code",
   "execution_count": null,
   "id": "discrete-heavy",
   "metadata": {},
   "outputs": [],
   "source": [
    "# change sizes to a dictionary with size : number in sock\n",
    "sizes = Counter(input().split(' '))\n",
    "num_cust = int(input())\n",
    "\n",
    "# initialize total_sales\n",
    "total_sales = 0\n",
    "\n",
    "# for each customer\n",
    "for cust in range(0, num_cust):\n",
    "    \n",
    "    # get current customer info into a list\n",
    "    cur_cust = input().split(' ')\n",
    "    \n",
    "    # get current size, price, and number of that size in stock\n",
    "    cur_size = cur_cust[0]\n",
    "    \n",
    "    cur_price = int(cur_cust[1])\n",
    "    \n",
    "    num_in_stock = sizes[cur_size]\n",
    "    \n",
    "    # if size in stock add price to total sales and remove one from dictionaries inventory\n",
    "    if num_in_stock >= 1:\n",
    "        \n",
    "        total_sales += cur_price\n",
    "        \n",
    "        sizes[cur_size] = num_in_stock - 1\n",
    "\n",
    "print(total_sales)"
   ]
  }
 ],
 "metadata": {
  "kernelspec": {
   "display_name": "Python 3",
   "language": "python",
   "name": "python3"
  },
  "language_info": {
   "codemirror_mode": {
    "name": "ipython",
    "version": 3
   },
   "file_extension": ".py",
   "mimetype": "text/x-python",
   "name": "python",
   "nbconvert_exporter": "python",
   "pygments_lexer": "ipython3",
   "version": "3.7.4"
  }
 },
 "nbformat": 4,
 "nbformat_minor": 5
}

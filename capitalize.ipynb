{
 "cells": [
  {
   "cell_type": "markdown",
   "id": "developmental-lunch",
   "metadata": {},
   "source": [
    "# You are asked to ensure that the first and last names of people begin with a capital letter in their passports. For example, alison heck should be capitalised correctly as Alison Heck."
   ]
  },
  {
   "cell_type": "code",
   "execution_count": 8,
   "id": "average-property",
   "metadata": {},
   "outputs": [
    {
     "data": {
      "text/plain": [
       "'Chris Alan'"
      ]
     },
     "execution_count": 8,
     "metadata": {},
     "output_type": "execute_result"
    }
   ],
   "source": [
    "s = \"chris alan\"\n",
    "\n",
    "names = [name.capitalize() for name in s.split(\" \")]\n",
    "    \n",
    "cap_name = \" \".join(names)\n",
    "\n",
    "cap_name"
   ]
  },
  {
   "cell_type": "code",
   "execution_count": 10,
   "id": "fantastic-trinidad",
   "metadata": {},
   "outputs": [],
   "source": [
    "def solve(s):\n",
    "    \n",
    "    # convert string into a list of names and capitalize each\n",
    "    names = [name.capitalize() for name in s.split(\" \")]\n",
    "    \n",
    "    # Join list of names using a space and return\n",
    "    return \" \".join(names)"
   ]
  },
  {
   "cell_type": "code",
   "execution_count": 11,
   "id": "descending-biotechnology",
   "metadata": {},
   "outputs": [
    {
     "data": {
      "text/plain": [
       "'Chris Alan'"
      ]
     },
     "execution_count": 11,
     "metadata": {},
     "output_type": "execute_result"
    }
   ],
   "source": [
    "solve(\"chris alan\")"
   ]
  }
 ],
 "metadata": {
  "kernelspec": {
   "display_name": "Python 3",
   "language": "python",
   "name": "python3"
  },
  "language_info": {
   "codemirror_mode": {
    "name": "ipython",
    "version": 3
   },
   "file_extension": ".py",
   "mimetype": "text/x-python",
   "name": "python",
   "nbconvert_exporter": "python",
   "pygments_lexer": "ipython3",
   "version": "3.7.4"
  }
 },
 "nbformat": 4,
 "nbformat_minor": 5
}

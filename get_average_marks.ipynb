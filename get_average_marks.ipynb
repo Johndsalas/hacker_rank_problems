{
 "cells": [
  {
   "cell_type": "markdown",
   "id": "japanese-binding",
   "metadata": {},
   "source": [
    "Input Format\n",
    "\n",
    "The first line contains an integer , the total number of students.\n",
    "The second line contains the names of the columns in any order.\n",
    "The next  lines contains the , ,  and , under their respective column names.\n",
    "\n",
    "Constraints\n",
    "\n",
    "\n",
    "Output Format\n",
    "\n",
    "Print the average marks of the list corrected to 2 decimal places.\n",
    "\n",
    "Sample Input\n",
    "\n",
    "TESTCASE 01\n",
    "\n",
    "5\n",
    "ID         MARKS      NAME       CLASS     \n",
    "1          97         Raymond    7         \n",
    "2          50         Steven     4         \n",
    "3          91         Adrian     9         \n",
    "4          72         Stewart    5         \n",
    "5          80         Peter      6   \n",
    "TESTCASE 02\n",
    "\n",
    "5\n",
    "MARKS      CLASS      NAME       ID        \n",
    "92         2          Calum      1         \n",
    "82         5          Scott      2         \n",
    "94         2          Jason      3         \n",
    "55         8          Glenn      4         \n",
    "82         2          Fergus     5\n",
    "Sample Output\n",
    "\n",
    "TESTCASE 01\n",
    "\n",
    "78.00\n",
    "TESTCASE 02\n",
    "\n",
    "81.00\n",
    "Explanation\n",
    "\n",
    "TESTCASE 01\n",
    "\n",
    "Average = \n",
    "\n",
    "Can you solve this challenge in 4 lines of code or less?\n",
    "NOTE: There is no penalty for solutions that are correct but have more than 4 lines."
   ]
  },
  {
   "cell_type": "code",
   "execution_count": null,
   "id": "pacific-shoulder",
   "metadata": {},
   "outputs": [],
   "source": [
    "# number of students\n",
    "num_stu = int(input())\n",
    "\n",
    "# column number for marks\n",
    "index = input().split().index(\"MARKS\")\n",
    "\n",
    "# get sum of all marks\n",
    "total_marks = sum([int(input().split()[index]) for _ in range(num_stu)])\n",
    "\n",
    "# print average of all marks\n",
    "print(round(total_marks/num_stu, 2))"
   ]
  }
 ],
 "metadata": {
  "kernelspec": {
   "display_name": "Python 3",
   "language": "python",
   "name": "python3"
  },
  "language_info": {
   "codemirror_mode": {
    "name": "ipython",
    "version": 3
   },
   "file_extension": ".py",
   "mimetype": "text/x-python",
   "name": "python",
   "nbconvert_exporter": "python",
   "pygments_lexer": "ipython3",
   "version": "3.7.4"
  }
 },
 "nbformat": 4,
 "nbformat_minor": 5
}

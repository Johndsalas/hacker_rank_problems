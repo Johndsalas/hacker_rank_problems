{
 "cells": [
  {
   "cell_type": "markdown",
   "id": "conscious-sunrise",
   "metadata": {},
   "source": [
    "# Kevin and Stuart want to play the 'The Minion Game'.\n",
    "\n",
    "Game Rules\n",
    "\n",
    "Both players are given the same string, .\n",
    "Both players have to make substrings using the letters of the string .\n",
    "Stuart has to make words starting with consonants.\n",
    "Kevin has to make words starting with vowels.\n",
    "The game ends when both players have made all possible substrings.\n",
    "\n",
    "Scoring\n",
    "A player gets +1 point for each occurrence of the substring in the string .\n",
    "\n",
    "For Example:\n",
    "String  = BANANA\n",
    "Kevin's vowel beginning word = ANA\n",
    "Here, ANA occurs twice in BANANA. Hence, Kevin will get 2 Points.\n",
    "\n",
    "For better understanding, see the image below:"
   ]
  },
  {
   "cell_type": "code",
   "execution_count": 32,
   "id": "random-silly",
   "metadata": {},
   "outputs": [
    {
     "name": "stdout",
     "output_type": "stream",
     "text": [
      "Stuart 12\n"
     ]
    }
   ],
   "source": [
    "word = \"BANANA\"\n",
    "\n",
    "# store strings for each and get number of strings for score\n",
    "stu = []\n",
    "stu_len = len(stu)\n",
    "kev = []\n",
    "kev_len = len(kev)\n",
    "\n",
    "# get itteration of fragments leaving off the first letter each time\n",
    "for r in range(0, len(word)+2):\n",
    "    \n",
    "    frag = word[r:] \n",
    "\n",
    "    for r in range(1, len(frag)+1, 1):\n",
    "\n",
    "        small_frag = frag[:r]\n",
    "\n",
    "        starts_with = small_frag[0]\n",
    "        \n",
    "        if starts_with not in \"AEIOU\":\n",
    "\n",
    "            stu.append(small_frag)\n",
    "\n",
    "        elif starts_with in \"AEIOU\":\n",
    "\n",
    "            kev.append(small_frag)\n",
    "        else:\n",
    "            print(\"THIS IS BAD SIR\")\n",
    "        \n",
    "        \n",
    "stu_len = len(stu)\n",
    "kev_len = len(kev)\n",
    "\n",
    "        \n",
    "if kev_len > stu_len:\n",
    "\n",
    "    print(f\"Kevin {kev_len}\")\n",
    "\n",
    "elif stu_len > kev_len:\n",
    "\n",
    "    print(f\"Stuart {stu_len}\")\n",
    "\n",
    "else:\n",
    "\n",
    "    print(\"Draw\")"
   ]
  },
  {
   "cell_type": "code",
   "execution_count": 42,
   "id": "quick-indicator",
   "metadata": {},
   "outputs": [],
   "source": [
    "def minion_game(word):\n",
    "\n",
    "    stu = []\n",
    "    kev = []\n",
    "\n",
    "    # get itteration of fragments leaving off the first letter each time\n",
    "    for r in range(0, len(word)+2):\n",
    "\n",
    "        frag = word[r:] \n",
    "\n",
    "        for r in range(1, len(frag)+1, 1):\n",
    "\n",
    "            small_frag = frag[:r]\n",
    "\n",
    "            starts_with = small_frag[0]\n",
    "\n",
    "            if starts_with not in \"AEIOU\":\n",
    "\n",
    "                stu.append(small_frag)\n",
    "\n",
    "            elif starts_with in \"AEIOU\":\n",
    "\n",
    "                kev.append(small_frag)\n",
    "            else:\n",
    "                print(\"THIS IS BAD SIR\")\n",
    "\n",
    "    # get length of list of scoring words and print out winning text\n",
    "    stu_len = len(stu)\n",
    "    kev_len = len(kev)\n",
    "\n",
    "    if kev_len > stu_len:\n",
    "\n",
    "        print(f\"Kevin {kev_len}\")\n",
    "\n",
    "    elif stu_len > kev_len:\n",
    "\n",
    "        print(f\"Stuart {stu_len}\")\n",
    "\n",
    "    else:\n",
    "\n",
    "        print(\"Draw\")"
   ]
  },
  {
   "cell_type": "code",
   "execution_count": 45,
   "id": "supported-newark",
   "metadata": {},
   "outputs": [
    {
     "name": "stdout",
     "output_type": "stream",
     "text": [
      "Stuart 24\n"
     ]
    }
   ],
   "source": [
    "minion_game(\"YABADABOO\")"
   ]
  },
  {
   "cell_type": "code",
   "execution_count": 13,
   "id": "proof-international",
   "metadata": {},
   "outputs": [
    {
     "name": "stdout",
     "output_type": "stream",
     "text": [
      "Stuart 12\n"
     ]
    }
   ],
   "source": [
    "string = \"BANANA\"\n",
    "\n",
    "\n",
    "\n",
    "    kev = 0\n",
    "\n",
    "    stu = 0\n",
    "\n",
    "    frag_list = [string[r:] for r in range(0, len(string))]\n",
    "\n",
    "    for frag in frag_list:\n",
    "\n",
    "        if frag[0] in \"AEIOU\":\n",
    "\n",
    "            kev += len(frag)\n",
    "\n",
    "        else:\n",
    "\n",
    "            stu += len(frag)\n",
    "\n",
    "    if kev > stu:\n",
    "\n",
    "        print(f\"Kevin {kev}\")\n",
    "\n",
    "    elif stu > kev:\n",
    "\n",
    "        print(f\"Stuart {stu}\")\n",
    "\n",
    "    else:\n",
    "\n",
    "        print(\"Draw\")"
   ]
  },
  {
   "cell_type": "code",
   "execution_count": null,
   "id": "split-beads",
   "metadata": {},
   "outputs": [],
   "source": [
    "\n",
    "\n",
    "for r in range(0, len(string)+1):\n",
    "    \n",
    "    frag = string[r:]\n",
    "    \n",
    "    for j in range(0, len(frag)+1):\n",
    "        \n",
    "        small_frag = frag[r] \n",
    "        \n",
    "        "
   ]
  }
 ],
 "metadata": {
  "kernelspec": {
   "display_name": "Python 3",
   "language": "python",
   "name": "python3"
  },
  "language_info": {
   "codemirror_mode": {
    "name": "ipython",
    "version": 3
   },
   "file_extension": ".py",
   "mimetype": "text/x-python",
   "name": "python",
   "nbconvert_exporter": "python",
   "pygments_lexer": "ipython3",
   "version": "3.7.4"
  }
 },
 "nbformat": 4,
 "nbformat_minor": 5
}

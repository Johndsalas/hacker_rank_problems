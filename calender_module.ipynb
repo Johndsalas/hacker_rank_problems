{
 "cells": [
  {
   "cell_type": "markdown",
   "id": "adopted-restaurant",
   "metadata": {},
   "source": [
    "# Take in a string date as \"month day year\"\n",
    "# Return the name of the day of the week for that date "
   ]
  },
  {
   "cell_type": "code",
   "execution_count": 1,
   "id": "beautiful-restaurant",
   "metadata": {},
   "outputs": [
    {
     "name": "stdout",
     "output_type": "stream",
     "text": [
      "08 05 2015\n",
      "WEDNESDAY\n"
     ]
    }
   ],
   "source": [
    "import calendar\n",
    "\n",
    "date = input().split(' ')\n",
    "\n",
    "month = int(date[0])\n",
    "day = int(date[1])\n",
    "year = int(date[2])\n",
    "\n",
    "day_list = ['Monday',\n",
    "            'Tuesday',\n",
    "            'Wednesday',\n",
    "            'Thursday',\n",
    "            'Friday',\n",
    "            'Saturday',\n",
    "            'Sunday']\n",
    "             \n",
    "day_num = calendar.weekday(year, month, day)\n",
    "\n",
    "print(day_list[day_num].upper())"
   ]
  }
 ],
 "metadata": {
  "kernelspec": {
   "display_name": "Python 3",
   "language": "python",
   "name": "python3"
  },
  "language_info": {
   "codemirror_mode": {
    "name": "ipython",
    "version": 3
   },
   "file_extension": ".py",
   "mimetype": "text/x-python",
   "name": "python",
   "nbconvert_exporter": "python",
   "pygments_lexer": "ipython3",
   "version": "3.7.4"
  }
 },
 "nbformat": 4,
 "nbformat_minor": 5
}

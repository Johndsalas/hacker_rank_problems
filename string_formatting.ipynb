{
 "cells": [
  {
   "cell_type": "markdown",
   "id": "patent-assets",
   "metadata": {},
   "source": [
    "# Given an integer, print the following values for each integer from 1 to n:"
   ]
  },
  {
   "cell_type": "code",
   "execution_count": null,
   "id": "stuck-corner",
   "metadata": {},
   "outputs": [],
   "source": [
    "# Decimal\n",
    "# Octal\n",
    "# Hexadecimal (capitalized)\n",
    "# Binary\n",
    "\n",
    "The four values must be printed on a single line in the order specified above. \n",
    "Each value should be space-padded to match the width of the binary value separated by a single space.\n",
    "\n",
    "\n",
    "# Example:\n",
    "\n",
    "# input: 17\n",
    "\n",
    "# output:\n",
    "\n",
    "#     1     1     1     1\n",
    "#     2     2     2    10\n",
    "#     3     3     3    11\n",
    "#     4     4     4   100\n",
    "#     5     5     5   101\n",
    "#     6     6     6   110\n",
    "#     7     7     7   111\n",
    "#     8    10     8  1000\n",
    "#     9    11     9  1001\n",
    "#    10    12     A  1010\n",
    "#    11    13     B  1011\n",
    "#    12    14     C  1100\n",
    "#    13    15     D  1101\n",
    "#    14    16     E  1110\n",
    "#    15    17     F  1111\n",
    "#    16    20    10 10000\n",
    "#    17    21    11 10001"
   ]
  },
  {
   "cell_type": "code",
   "execution_count": 7,
   "id": "processed-genesis",
   "metadata": {},
   "outputs": [],
   "source": [
    "def print_formatted(number):\n",
    "    '''Takes in an integer number\n",
    "       Prints decimal, octal, hexadecimal and binary\n",
    "       on each ine from 1 to that number'''\n",
    "    \n",
    "    # itterate through numbers 1 - input number\n",
    "    for r in range(1, number+1):\n",
    "        \n",
    "        # get number forms\n",
    "        inta = r\n",
    "        octa = oct(r)\n",
    "        hexa = hex(r)\n",
    "        bina = bin(r)\n",
    "        \n",
    "        # get spacing from length of binary value\n",
    "        spacing = len(bina)\n",
    "        \n",
    "        # format string to right justify using spacing number of spaces\n",
    "        formatted_string = f\"{inta:^{spacing}}{octa[2:]:^{spacing}}{hexa[2:]:^{spacing}}{bina[2:]:^{spacing}}\"\n",
    "        \n",
    "        print(formatted_string)"
   ]
  },
  {
   "cell_type": "code",
   "execution_count": 8,
   "id": "parental-massage",
   "metadata": {},
   "outputs": [
    {
     "name": "stdout",
     "output_type": "stream",
     "text": [
      " 1  1  1  1 \n",
      " 2   2   2   10 \n",
      " 3   3   3   11 \n",
      "  4    4    4   100 \n",
      "  5    5    5   101 \n",
      "  6    6    6   110 \n",
      "  7    7    7   111 \n",
      "  8     10    8    1000 \n",
      "  9     11    9    1001 \n",
      "  10    12    a    1010 \n",
      "  11    13    b    1011 \n",
      "  12    14    c    1100 \n",
      "  13    15    d    1101 \n",
      "  14    16    e    1110 \n",
      "  15    17    f    1111 \n",
      "  16     20     10    10000 \n",
      "  17     21     11    10001 \n"
     ]
    }
   ],
   "source": [
    "print_formatted(17)"
   ]
  },
  {
   "cell_type": "code",
   "execution_count": 10,
   "id": "recognized-bankruptcy",
   "metadata": {},
   "outputs": [],
   "source": [
    "def print_formatted(number):\n",
    "    '''Takes in an integer number\n",
    "       Prints decimal, octal, hexadecimal and binary\n",
    "       on each ine from 1 to that number'''\n",
    "    \n",
    "    # itterate through numbers 1 - input number\n",
    "    for r in range(1, number+1):\n",
    "        \n",
    "        # get number forms\n",
    "        inta = r\n",
    "        octa = oct(r)\n",
    "        hexa = hex(r)\n",
    "        bina = bin(r)\n",
    "        \n",
    "        # get spacing from length of binary value\n",
    "        spacing = len(bina)\n",
    "        \n",
    "        # add number forms to string\n",
    "        string = f\"{inta} {octa[2:]} {hexa[2:]} {bina[2:]}\"\n",
    "        \n",
    "        \n",
    "        \n",
    "        print(formatted_string)"
   ]
  },
  {
   "cell_type": "code",
   "execution_count": 11,
   "id": "applicable-likelihood",
   "metadata": {},
   "outputs": [
    {
     "name": "stdout",
     "output_type": "stream",
     "text": [
      "1 1 1 1\n",
      "2 2 2 10\n",
      "3 3 3 11\n",
      "4 4 4 100\n",
      "5 5 5 101\n",
      "6 6 6 110\n",
      "7 7 7 111\n",
      "8 10 8 1000\n",
      "9 11 9 1001\n",
      "10 12 a 1010\n",
      "11 13 b 1011\n",
      "12 14 c 1100\n",
      "13 15 d 1101\n",
      "14 16 e 1110\n",
      "15 17 f 1111\n",
      "16 20 10 10000\n",
      "17 21 11 10001\n"
     ]
    }
   ],
   "source": [
    "print_formatted(17)"
   ]
  },
  {
   "cell_type": "code",
   "execution_count": null,
   "id": "atomic-automation",
   "metadata": {},
   "outputs": [],
   "source": [
    "# get bin length then left justify each number by that ammount"
   ]
  }
 ],
 "metadata": {
  "kernelspec": {
   "display_name": "Python 3",
   "language": "python",
   "name": "python3"
  },
  "language_info": {
   "codemirror_mode": {
    "name": "ipython",
    "version": 3
   },
   "file_extension": ".py",
   "mimetype": "text/x-python",
   "name": "python",
   "nbconvert_exporter": "python",
   "pygments_lexer": "ipython3",
   "version": "3.7.4"
  }
 },
 "nbformat": 4,
 "nbformat_minor": 5
}

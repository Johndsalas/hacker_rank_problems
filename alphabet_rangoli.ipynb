{
 "cells": [
  {
   "cell_type": "markdown",
   "id": "metric-spring",
   "metadata": {},
   "source": [
    "# You are given an integer. \n",
    "# Your task is to print an alphabet rangoli of that size. "
   ]
  },
  {
   "cell_type": "code",
   "execution_count": 1,
   "id": "friendly-jackson",
   "metadata": {},
   "outputs": [],
   "source": [
    "#size 3\n",
    "\n",
    "# ----c----\n",
    "# --c-b-c--\n",
    "# c-b-a-b-c\n",
    "# --c-b-c--\n",
    "# ----c----\n",
    "\n",
    "#size 5\n",
    "\n",
    "# --------e--------\n",
    "# ------e-d-e------\n",
    "# ----e-d-c-d-e----\n",
    "# --e-d-c-b-c-d-e--\n",
    "# e-d-c-b-a-b-c-d-e\n",
    "# --e-d-c-b-c-d-e--\n",
    "# ----e-d-c-d-e----\n",
    "# ------e-d-e------\n",
    "# --------e--------\n",
    "\n",
    "\n",
    "#size 10\n",
    "\n",
    "# ------------------j------------------\n",
    "# ----------------j-i-j----------------\n",
    "# --------------j-i-h-i-j--------------\n",
    "# ------------j-i-h-g-h-i-j------------\n",
    "# ----------j-i-h-g-f-g-h-i-j----------\n",
    "# --------j-i-h-g-f-e-f-g-h-i-j--------\n",
    "# ------j-i-h-g-f-e-d-e-f-g-h-i-j------\n",
    "# ----j-i-h-g-f-e-d-c-d-e-f-g-h-i-j----\n",
    "# --j-i-h-g-f-e-d-c-b-c-d-e-f-g-h-i-j--\n",
    "# j-i-h-g-f-e-d-c-b-a-b-c-d-e-f-g-h-i-j\n",
    "# --j-i-h-g-f-e-d-c-b-c-d-e-f-g-h-i-j--\n",
    "# ----j-i-h-g-f-e-d-c-d-e-f-g-h-i-j----\n",
    "# ------j-i-h-g-f-e-d-e-f-g-h-i-j------\n",
    "# --------j-i-h-g-f-e-f-g-h-i-j--------\n",
    "# ----------j-i-h-g-f-g-h-i-j----------\n",
    "# ------------j-i-h-g-h-i-j------------\n",
    "# --------------j-i-h-i-j--------------\n",
    "# ----------------j-i-j----------------\n",
    "# ------------------j------------------"
   ]
  },
  {
   "cell_type": "markdown",
   "id": "regular-writer",
   "metadata": {},
   "source": [
    "# Using newlines for hackerrank"
   ]
  },
  {
   "cell_type": "code",
   "execution_count": 36,
   "id": "operational-country",
   "metadata": {},
   "outputs": [
    {
     "name": "stdout",
     "output_type": "stream",
     "text": [
      "--------e--------\n",
      "------e-d-e------\n",
      "----e-d-c-d-e----\n",
      "--e-d-c-b-c-d-e--\n",
      "e-d-c-b-a-b-c-d-e\n",
      "--e-d-c-b-c-d-e--\n",
      "----e-d-c-d-e----\n",
      "------e-d-e------\n",
      "--------e--------\n",
      "\n"
     ]
    }
   ],
   "source": [
    "import string\n",
    "\n",
    "size = 5\n",
    "\n",
    "def get_middle(size, r):\n",
    "\n",
    "    # get alphabet\n",
    "    alpha = string.ascii_lowercase\n",
    "    \n",
    "    # get index of each letter\n",
    "    start_letter = alpha[r]\n",
    "    index = alpha.index(start_letter)\n",
    "\n",
    "    # get slice of alphabet from index of letter equal to the size of the request\n",
    "    back = alpha[index:size]\n",
    "\n",
    "    # get reverse of back and remove back letter\n",
    "    front = \"\".join(reversed(back))[:-1]\n",
    "\n",
    "    # add front to back to get middle \n",
    "    middle = front + back\n",
    "\n",
    "    # add - between letters\n",
    "    middle = \"-\".join(middle)\n",
    "\n",
    "    return middle\n",
    "\n",
    "rangoli = \"\"\n",
    "\n",
    "for r in range(size-1,0,-1):\n",
    "\n",
    "    middle = get_middle(size, r)\n",
    "    \n",
    "    rangoli += ((\"--\" * r) + middle + (\"--\" * r) + \"\\n\")\n",
    "\n",
    "for r in range(0,size):\n",
    "    \n",
    "    middle = get_middle(size, r)\n",
    "    \n",
    "    rangoli += ((\"--\" * r) + middle + (\"--\" * r) + \"\\n\")\n",
    "    \n",
    "print(rangoli)"
   ]
  },
  {
   "cell_type": "markdown",
   "id": "fixed-scientist",
   "metadata": {},
   "source": [
    "# Function for notebook"
   ]
  },
  {
   "cell_type": "code",
   "execution_count": 37,
   "id": "political-sound",
   "metadata": {},
   "outputs": [],
   "source": [
    "import string\n",
    "def get_middle(size, r):\n",
    "\n",
    "    # get alphabet\n",
    "    alpha = string.ascii_lowercase\n",
    "    \n",
    "    # get index of each letter\n",
    "    start_letter = alpha[r]\n",
    "    index = alpha.index(start_letter)\n",
    "\n",
    "    # get slice of alphabet from index of letter equal to the size of the request\n",
    "    back = alpha[index:size]\n",
    "\n",
    "    # get reverse of back and remove back letter\n",
    "    front = \"\".join(reversed(back))[:-1]\n",
    "\n",
    "    # add front to back to get middle \n",
    "    middle = front + back\n",
    "\n",
    "    # add - between letters\n",
    "    middle = \"-\".join(middle)\n",
    "\n",
    "    return middle\n",
    "\n",
    "def make_rangoli(size):\n",
    "\n",
    "    rangoli = \"\"\n",
    "\n",
    "    for r in range(size-1,0,-1):\n",
    "\n",
    "        middle = get_middle(size, r)\n",
    "\n",
    "        print((\"--\" * r) + middle + (\"--\" * r))\n",
    "\n",
    "    for r in range(0,size):\n",
    "\n",
    "        middle = get_middle(size, r)\n",
    "\n",
    "        print((\"--\" * r) + middle + (\"--\" * r))\n",
    "\n",
    "    print(rangoli)"
   ]
  },
  {
   "cell_type": "code",
   "execution_count": 38,
   "id": "nuclear-regular",
   "metadata": {},
   "outputs": [
    {
     "name": "stdout",
     "output_type": "stream",
     "text": [
      "------------------j------------------\n",
      "----------------j-i-j----------------\n",
      "--------------j-i-h-i-j--------------\n",
      "------------j-i-h-g-h-i-j------------\n",
      "----------j-i-h-g-f-g-h-i-j----------\n",
      "--------j-i-h-g-f-e-f-g-h-i-j--------\n",
      "------j-i-h-g-f-e-d-e-f-g-h-i-j------\n",
      "----j-i-h-g-f-e-d-c-d-e-f-g-h-i-j----\n",
      "--j-i-h-g-f-e-d-c-b-c-d-e-f-g-h-i-j--\n",
      "j-i-h-g-f-e-d-c-b-a-b-c-d-e-f-g-h-i-j\n",
      "--j-i-h-g-f-e-d-c-b-c-d-e-f-g-h-i-j--\n",
      "----j-i-h-g-f-e-d-c-d-e-f-g-h-i-j----\n",
      "------j-i-h-g-f-e-d-e-f-g-h-i-j------\n",
      "--------j-i-h-g-f-e-f-g-h-i-j--------\n",
      "----------j-i-h-g-f-g-h-i-j----------\n",
      "------------j-i-h-g-h-i-j------------\n",
      "--------------j-i-h-i-j--------------\n",
      "----------------j-i-j----------------\n",
      "------------------j------------------\n",
      "\n"
     ]
    }
   ],
   "source": [
    "make_rangoli(10)"
   ]
  }
 ],
 "metadata": {
  "kernelspec": {
   "display_name": "Python 3",
   "language": "python",
   "name": "python3"
  },
  "language_info": {
   "codemirror_mode": {
    "name": "ipython",
    "version": 3
   },
   "file_extension": ".py",
   "mimetype": "text/x-python",
   "name": "python",
   "nbconvert_exporter": "python",
   "pygments_lexer": "ipython3",
   "version": "3.7.4"
  }
 },
 "nbformat": 4,
 "nbformat_minor": 5
}

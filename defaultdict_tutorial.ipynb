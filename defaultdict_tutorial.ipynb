{
 "cells": [
  {
   "cell_type": "markdown",
   "id": "representative-insulation",
   "metadata": {},
   "source": [
    "# DefaultDict Tutotial\n",
    "\n",
    "1) Take in a list with two numbers representing groups and a number of words equal to the sum of the numbers <br>\n",
    "2) for each number form a group of words equal to its value beginning with the first group in the order that the words were input <br>\n",
    "3) for each word in group two print the position(s) that word appears in the first group <br>"
   ]
  },
  {
   "cell_type": "code",
   "execution_count": 2,
   "id": "anticipated-practitioner",
   "metadata": {},
   "outputs": [
    {
     "name": "stdout",
     "output_type": "stream",
     "text": [
      "5 2\n",
      "a\n",
      "a\n",
      "b\n",
      "a\n",
      "b\n",
      "a\n",
      "b\n",
      "1 2 4\n",
      "3 5\n"
     ]
    }
   ],
   "source": [
    "from collections import defaultdict\n",
    "\n",
    "# get list of groups\n",
    "group_list = input().split(' ')\n",
    "\n",
    "gate_words = int(group_list[0])\n",
    "key_words = int(group_list[1])\n",
    "\n",
    "gateways = defaultdict(list)\n",
    "\n",
    "# append gate words and positions to gateways\n",
    "for r in range(gate_words):\n",
    "    \n",
    "    # get word and position\n",
    "    gate_name = input()\n",
    "    position = str(r+1)\n",
    "\n",
    "    # append gate name and position number to gateways\n",
    "    gateways[f'{gate_name}'].append(position)\n",
    "\n",
    "# get set of key words\n",
    "key_chain = [input() for key in range(key_words)]\n",
    "\n",
    "# check each word in keys against gateways\n",
    "# print matching positions or -1\n",
    "for key in key_chain:\n",
    "    \n",
    "    if key in gateways.keys():\n",
    "        \n",
    "        print(' '.join(gateways[key]))\n",
    "        \n",
    "    else:\n",
    "        \n",
    "        print(-1)"
   ]
  }
 ],
 "metadata": {
  "kernelspec": {
   "display_name": "Python 3",
   "language": "python",
   "name": "python3"
  },
  "language_info": {
   "codemirror_mode": {
    "name": "ipython",
    "version": 3
   },
   "file_extension": ".py",
   "mimetype": "text/x-python",
   "name": "python",
   "nbconvert_exporter": "python",
   "pygments_lexer": "ipython3",
   "version": "3.7.4"
  }
 },
 "nbformat": 4,
 "nbformat_minor": 5
}
